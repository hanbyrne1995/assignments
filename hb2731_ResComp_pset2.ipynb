{
 "cells": [
  {
   "attachments": {},
   "cell_type": "markdown",
   "id": "44f82fee-c29f-4101-920b-53c880552ea5",
   "metadata": {},
   "source": [
    "# hb2731 Pset 2\n",
    "\n",
    "## Part 1"
   ]
  },
  {
   "cell_type": "markdown",
   "id": "d33030e6-41ce-4724-92b9-4d34c6eb3666",
   "metadata": {},
   "source": [
    "### Question 1: Create a list with the names of every planet in the solar system (in order)"
   ]
  },
  {
   "cell_type": "code",
   "execution_count": 37,
   "id": "65e11eb2-8842-403f-b7a0-0fb0e84e829b",
   "metadata": {},
   "outputs": [],
   "source": [
    "# moving outward from the sun (source: NASA)\n",
    "planets = ['Mercury', 'Venus', 'Earth', 'Mars', 'Jupiter', 'Saturn', 'Uranus', 'Neptune']"
   ]
  },
  {
   "cell_type": "markdown",
   "id": "d6b4f1b0-7cfd-4629-85a7-9da9c2294c51",
   "metadata": {},
   "source": [
    "### Question 2: Have Python tell you how many planets there are by examining your list"
   ]
  },
  {
   "cell_type": "code",
   "execution_count": 131,
   "id": "66d12e23-8432-4502-bef0-105cb57c58c6",
   "metadata": {},
   "outputs": [
    {
     "name": "stdout",
     "output_type": "stream",
     "text": [
      "There are 8 planets\n"
     ]
    }
   ],
   "source": [
    "numPlanets = len(planets)\n",
    "print(f'There are {numPlanets} planets')"
   ]
  },
  {
   "cell_type": "markdown",
   "id": "aa9c0f64-7af9-45d5-84cd-d1b6c1813ab4",
   "metadata": {},
   "source": [
    "### Question 3: Use slicing to display the first four planets (the rocky planets)"
   ]
  },
  {
   "cell_type": "code",
   "execution_count": 39,
   "id": "4359d4f5-79d6-4fa7-8ae6-5e7e6c3276eb",
   "metadata": {},
   "outputs": [
    {
     "name": "stdout",
     "output_type": "stream",
     "text": [
      "['Mercury', 'Venus', 'Earth', 'Mars']\n"
     ]
    }
   ],
   "source": [
    "firstFour = planets[:4]\n",
    "print(firstFour)"
   ]
  },
  {
   "cell_type": "markdown",
   "id": "4295d06a-88e3-477b-b62c-f5041bcd9bd9",
   "metadata": {},
   "source": [
    "### Question 4: Iterate through your planets and print the planet name only if it has an s at the end"
   ]
  },
  {
   "cell_type": "code",
   "execution_count": 40,
   "id": "80ce81eb-28fa-4639-8dbd-e2eb48f3d7eb",
   "metadata": {},
   "outputs": [
    {
     "name": "stdout",
     "output_type": "stream",
     "text": [
      "Venus\n",
      "Mars\n",
      "Uranus\n"
     ]
    }
   ],
   "source": [
    "for i in range(numPlanets):\n",
    "    if planets[i][-1] == 's':\n",
    "        print(planets[i])"
   ]
  },
  {
   "cell_type": "markdown",
   "id": "a3fec30e-74b5-4b32-b982-8ed2b695765d",
   "metadata": {},
   "source": [
    "## Part 2: Dictionaries"
   ]
  },
  {
   "cell_type": "markdown",
   "id": "fa43cb09-dbe7-4286-8d4d-e944d598aa23",
   "metadata": {},
   "source": [
    "### Question 1: Now create a dictionary that maps each planet name to its mass"
   ]
  },
  {
   "cell_type": "code",
   "execution_count": 132,
   "id": "192728e0-ce93-4277-9f2f-e83e5b978d29",
   "metadata": {},
   "outputs": [
    {
     "name": "stdout",
     "output_type": "stream",
     "text": [
      "{'Mercury': 0.33, 'Venus': 4.87, 'Earth': 5.97, 'Mars': 0.642, 'Jupiter': 1898, 'Saturn': 568, 'Uranus': 86.8, 'Neptune': 102}\n"
     ]
    }
   ],
   "source": [
    "# units are 10^24 kg\n",
    "massPlanets = {'Mercury': 0.330, 'Venus': 4.87, 'Earth': 5.97, 'Mars': 0.642, 'Jupiter': 1898, 'Saturn': 568, 'Uranus': 86.8, 'Neptune': 102}\n",
    "print(massPlanets)"
   ]
  },
  {
   "cell_type": "markdown",
   "id": "92a48999-cea7-44b4-ba0c-3c4e32b72f35",
   "metadata": {},
   "source": [
    "### Question 2: Look up Earth's mass"
   ]
  },
  {
   "cell_type": "code",
   "execution_count": 133,
   "id": "36daa02d-d1d9-46ae-bb85-35438b21e7c2",
   "metadata": {},
   "outputs": [
    {
     "name": "stdout",
     "output_type": "stream",
     "text": [
      "The mass of Earth is 5.97 x 10^24 kg\n"
     ]
    }
   ],
   "source": [
    "massEarth = massPlanets['Earth']\n",
    "print(f'The mass of Earth is {massEarth} x 10^24 kg')"
   ]
  },
  {
   "cell_type": "markdown",
   "id": "7b16de23-f221-48fb-bad7-b4370bef5946",
   "metadata": {},
   "source": [
    "### Question 3: Loop through the data and create a list of planets whose mast is greater than 100 x 10^24 kg"
   ]
  },
  {
   "cell_type": "code",
   "execution_count": 43,
   "id": "a1cc229f-7567-40c7-b4ac-def5ce6a1cc5",
   "metadata": {},
   "outputs": [
    {
     "name": "stdout",
     "output_type": "stream",
     "text": [
      "['Jupiter', 'Saturn', 'Neptune']\n"
     ]
    }
   ],
   "source": [
    "threshold = 100\n",
    "\n",
    "bigPlanets = []\n",
    "for i in massPlanets:\n",
    "    if massPlanets[i] > threshold:\n",
    "        bigPlanets.append(i)\n",
    "\n",
    "print(bigPlanets)"
   ]
  },
  {
   "cell_type": "markdown",
   "id": "e5af10e0-941c-4987-87c4-a24008ed28e4",
   "metadata": {},
   "source": [
    "### Question 4: Now add pluto to your dictionary"
   ]
  },
  {
   "cell_type": "code",
   "execution_count": 44,
   "id": "494392a4-0d6c-4efd-a04a-4da680b0a2f5",
   "metadata": {},
   "outputs": [
    {
     "name": "stdout",
     "output_type": "stream",
     "text": [
      "{'Mercury': 0.33, 'Venus': 4.87, 'Earth': 5.97, 'Mars': 0.642, 'Jupiter': 1898, 'Saturn': 568, 'Uranus': 86.8, 'Neptune': 102, 'Pluto': 0.013}\n"
     ]
    }
   ],
   "source": [
    "massPlanets['Pluto'] = 0.013\n",
    "print(massPlanets)"
   ]
  },
  {
   "cell_type": "markdown",
   "id": "8eb33183-a80e-435e-84dd-f1459df2c590",
   "metadata": {},
   "source": [
    "## Part 3: Functions"
   ]
  },
  {
   "cell_type": "markdown",
   "id": "f6e0dab3-a687-42e4-a1ef-1d69df02226e",
   "metadata": {},
   "source": [
    "### Question 1: Write a function to convert temperature from kelvin to celsius and celsius to kelvin"
   ]
  },
  {
   "cell_type": "code",
   "execution_count": 70,
   "id": "dc69e712-5c7b-4807-8cd4-4c2f0af18f08",
   "metadata": {},
   "outputs": [],
   "source": [
    "def kelvin_celsius_converter(temp, kelvin = True):\n",
    "    '''\n",
    "    Function that converts the input temperature in Kelvin to Celsius, or Celsius to Kelvin depending on whether the input condition of kelvin is set to True or False\n",
    "    (i.e., if the user inputs a Kelvin value to convert to Celsius, 'kelvin' should be set to True). Note that this argument is conditional and True by default.\n",
    "    '''\n",
    "    absoluteZero = 273.15\n",
    "\n",
    "    if kelvin:\n",
    "        tempOut = temp - absoluteZero\n",
    "    else:\n",
    "        tempOut = temp + absoluteZero\n",
    "    return tempOut"
   ]
  },
  {
   "cell_type": "markdown",
   "id": "d2c0414c-2c26-4346-802d-ff621b3543f9",
   "metadata": {},
   "source": [
    "### Question 2: Write a function to convert temperature to fahrenheit"
   ]
  },
  {
   "cell_type": "code",
   "execution_count": 46,
   "id": "6120907f-a883-4737-9203-0bc6505822d1",
   "metadata": {},
   "outputs": [],
   "source": [
    "def temp_to_fahrenheit(temp, kelvin = True):\n",
    "    '''\n",
    "    Function that converts the input temperature to Fahrenheit; note that Kelvin or Celsius inputs are acceptable but must be specified \n",
    "    with the kelvin = True or False input argument\n",
    "    '''\n",
    "    if kelvin:\n",
    "       tempOut =  kelvin_celsius_converter(temp, kelvin = True)*(9/5) + 32\n",
    "    else:\n",
    "        tempOut = temp*(9/5) + 32\n",
    "    return tempOut"
   ]
  },
  {
   "cell_type": "markdown",
   "id": "9abf7af4-6554-4467-b2f6-d0a610c98f2f",
   "metadata": {},
   "source": [
    "### Question 3: Check that the outputs are sensible"
   ]
  },
  {
   "cell_type": "code",
   "execution_count": 47,
   "id": "bedb9f41-350b-46e7-91ab-3fb4e4b65647",
   "metadata": {},
   "outputs": [
    {
     "name": "stdout",
     "output_type": "stream",
     "text": [
      "27°C is  300.15 K from the function\n",
      "300 K is  26.85 °C from the function\n"
     ]
    }
   ],
   "source": [
    "# checking 300 K, which is about 27°C\n",
    "\n",
    "toKelvinTest = kelvin_celsius_converter(27, kelvin = False)\n",
    "toCelsiusTest = kelvin_celsius_converter(300, kelvin = True)\n",
    "\n",
    "print(f'27°C is {toKelvinTest: .2f} K from the function')\n",
    "print(f'300 K is {toCelsiusTest: .2f} °C from the function')"
   ]
  },
  {
   "cell_type": "code",
   "execution_count": 135,
   "id": "cb45fe0c-0583-42f8-b0a9-af6f2333414a",
   "metadata": {},
   "outputs": [
    {
     "name": "stdout",
     "output_type": "stream",
     "text": [
      "27°C is  80.60 °F from the function\n",
      "300 °K is  80.33 °F from the function\n"
     ]
    }
   ],
   "source": [
    "# checking 27 C and 300 K which are about 80 °F\n",
    "\n",
    "toFahr_fromC = temp_to_fahrenheit(27, kelvin = False)\n",
    "toFahr_fromK = temp_to_fahrenheit(300, kelvin = True)\n",
    "\n",
    "print(f'27°C is {toFahr_fromC: .2f} °F from the function')\n",
    "print(f'300 °K is {toFahr_fromK: .2f} °F from the function')"
   ]
  },
  {
   "cell_type": "markdown",
   "id": "63d1d1e5-a5bb-4542-9117-afbd618ac695",
   "metadata": {},
   "source": [
    "### Question 4: Now write a function that converts from farenheit and uses a keyword argument to specify whether you want the output in celcius or kelvin"
   ]
  },
  {
   "cell_type": "code",
   "execution_count": 136,
   "id": "d9c1d866-ab72-4ff7-a743-a43e61ac325a",
   "metadata": {},
   "outputs": [],
   "source": [
    "def convert_fahrenheit(temp, output):\n",
    "    '''\n",
    "    Function that takes in Fahrenheit temperature and outputs either C or K temperature depending on the output argument specified\n",
    "\n",
    "    Note on input: the 'output' parameter takes inputs of 'celsius' and 'kelvin'\n",
    "    '''\n",
    "    # checking to ensure that the output argument has been specified correctly\n",
    "    outputs = ['celsius', 'kelvin']\n",
    "    if not output in outputs:\n",
    "        raise ValueError(\"Output argument must be specified as 'celsius' or 'kelvin'\")\n",
    "\n",
    "    # if statements to check if the output that has been selected is celsius or kelvin\n",
    "    if output == 'celsius':\n",
    "        tempOut = (temp - 32)*5/9\n",
    "    elif output == 'kelvin':\n",
    "        tempCelsius = (temp - 32)*5/9\n",
    "        tempOut = kelvin_celsius_converter(tempCelsius, kelvin = False)\n",
    "    return tempOut"
   ]
  },
  {
   "cell_type": "markdown",
   "id": "dd31d23b-005e-4933-a721-5bc09b76bb36",
   "metadata": {},
   "source": [
    "#### Testing the function\n",
    "Verified answers:  \n",
    "300 °K = 80.33 °F  \n",
    "100 °C = 212 °F"
   ]
  },
  {
   "cell_type": "code",
   "execution_count": 137,
   "id": "f90b8ef4-864b-4ffa-9d86-7bb7bffbb500",
   "metadata": {},
   "outputs": [
    {
     "name": "stdout",
     "output_type": "stream",
     "text": [
      "80.33°F is 300.00°K\n",
      "212°F is 100.00°C\n"
     ]
    }
   ],
   "source": [
    "kelvinTempTest = 80.33 # temperatures in °F\n",
    "celsiusTempTest = 212\n",
    "\n",
    "kelvinToF = convert_fahrenheit(kelvinTempTest, output = 'kelvin')\n",
    "celsiusToF = convert_fahrenheit(celsiusTempTest, output = 'celsius')\n",
    "\n",
    "print(f'{kelvinTempTest}°F is {kelvinToF:.2f}°K')\n",
    "print(f'{celsiusTempTest}°F is {celsiusToF:.2f}°C')"
   ]
  },
  {
   "cell_type": "markdown",
   "id": "2ebbaebf-f4a3-43c1-8e85-44a2e2e09e8f",
   "metadata": {},
   "source": [
    "### 5: Write a function that takes two arguments (feet and inches) and returns height in meters"
   ]
  },
  {
   "cell_type": "code",
   "execution_count": 138,
   "id": "2c953fda-eb60-4740-9959-075823b08a21",
   "metadata": {},
   "outputs": [],
   "source": [
    "def feet_to_meters(feet, inches):\n",
    "    '''\n",
    "    Function that takes in two arguments (feet and inches) and returns the corresponding length in meters.\n",
    "    '''\n",
    "    # defining conversion values\n",
    "    oneFoot = 0.3048 # one foot in meters\n",
    "    oneInch = oneFoot / 12 # one inch in meters\n",
    "\n",
    "    metersOut = feet * oneFoot + inches * oneInch\n",
    "\n",
    "    return metersOut"
   ]
  },
  {
   "cell_type": "markdown",
   "id": "b9714e7c-6424-440f-b98c-6e93279d97c5",
   "metadata": {},
   "source": [
    "#### Checking with some sensible values\n",
    "Values from Google:  \n",
    "3 feet 9 inches = 1.143 meters  \n",
    "12 feet 1 inch = 3.683 meters"
   ]
  },
  {
   "cell_type": "code",
   "execution_count": 139,
   "id": "a540176f-200b-4c2f-b07c-942e46861b01",
   "metadata": {},
   "outputs": [
    {
     "name": "stdout",
     "output_type": "stream",
     "text": [
      "3 feet 9 inches is 1.143 meters\n",
      "12 feet 1 inches is 3.683 meters\n"
     ]
    }
   ],
   "source": [
    "test1 = feet_to_meters(3, 9)\n",
    "test2 = feet_to_meters(12,1)\n",
    "\n",
    "print(f'3 feet 9 inches is {test1:.3f} meters')\n",
    "print(f'12 feet 1 inches is {test2:.3f} meters')"
   ]
  },
  {
   "cell_type": "markdown",
   "id": "fea4a499-bf83-4b74-9072-bb9f9926742f",
   "metadata": {},
   "source": [
    "### 6: Write a function takes one argument (height in meters) and returns two arguments (feet and inches)"
   ]
  },
  {
   "cell_type": "code",
   "execution_count": 141,
   "id": "ef7ffa86-868d-4a39-ac37-79267c0db6e1",
   "metadata": {},
   "outputs": [],
   "source": [
    "def meters_to_feet(height):\n",
    "    '''\n",
    "    Function that takes one argument (height in meters) and returns two arguments (feet and inches)\n",
    "    '''\n",
    "    inchesPerFoot = 12 # one foot in inches\n",
    "    inchesPerMeter = 39.37 # one meter in inches\n",
    "\n",
    "    # calculate the total height in inches then divide that into full feet and inches\n",
    "    inchesTotal = height*inchesPerMeter\n",
    "    feetOut = inchesTotal // inchesPerFoot # this calculates the total full feet in this height\n",
    "    inchesOut = inchesTotal % inchesPerFoot # this calculates the remainder of dividing the full height in inches by the number of inches in a foot to give just inches\n",
    "\n",
    "    return feetOut, inchesOut"
   ]
  },
  {
   "cell_type": "markdown",
   "id": "b15dc070-68b5-4340-a512-a078bfd12002",
   "metadata": {},
   "source": [
    "### 7: Verify that the “round trip” conversion from and back to meters is consistent"
   ]
  },
  {
   "cell_type": "code",
   "execution_count": 142,
   "id": "7d7a218a-a709-4f8d-8a8d-1ee721ffd9ff",
   "metadata": {},
   "outputs": [
    {
     "name": "stdout",
     "output_type": "stream",
     "text": [
      "We input 1m and convert to 3 feet and 3.37 inches and then convert back to 1.0m\n",
      "We input 3.5m and convert to 11 feet and 5.79 inches and then convert back to 3.5m\n",
      "We input 100.3m and convert to 329 feet and 0.81 inches and then convert back to 100.3m\n"
     ]
    }
   ],
   "source": [
    "# choose three values of metric values for this comparison\n",
    "metersIn = [1, 3.5, 100.3]\n",
    "\n",
    "# initialise lists to hold the feet and inches output\n",
    "feetOut = []\n",
    "inchesOut = []\n",
    "\n",
    "# run a for loop that goes through the metric values and performs the calculation\n",
    "for i in metersIn:\n",
    "    feet, inches = meters_to_feet(i)\n",
    "    feetOut.append(feet)\n",
    "    inchesOut.append(inches)\n",
    "\n",
    "# now performing the operation in reverse to calculate the meters\n",
    "\n",
    "# initialise a list to store the meter values\n",
    "metersOut = []\n",
    "\n",
    "# create a for loop that calculates the output in meters based on these inputs\n",
    "for i in range(len(feetOut)):\n",
    "    meters = feet_to_meters(feetOut[i], inchesOut[i])\n",
    "    metersOut.append(meters)\n",
    "\n",
    "# print statements comparing meters in and out for the 'round trip'\n",
    "for i in range(len(metersOut)):\n",
    "    print(f'We input {metersIn[i]}m and convert to {feetOut[i]:.0f} feet and {inchesOut[i]:.2f} inches and then convert back to {metersOut[i]:.1f}m')"
   ]
  },
  {
   "cell_type": "code",
   "execution_count": null,
   "id": "e0c99804-6f77-4067-af68-c61ded643b7f",
   "metadata": {},
   "outputs": [],
   "source": []
  }
 ],
 "metadata": {
  "kernelspec": {
   "display_name": "pangeo23",
   "language": "python",
   "name": "pangeo23"
  },
  "language_info": {
   "codemirror_mode": {
    "name": "ipython",
    "version": 3
   },
   "file_extension": ".py",
   "mimetype": "text/x-python",
   "name": "python",
   "nbconvert_exporter": "python",
   "pygments_lexer": "ipython3",
   "version": "3.11.6"
  }
 },
 "nbformat": 4,
 "nbformat_minor": 5
}
